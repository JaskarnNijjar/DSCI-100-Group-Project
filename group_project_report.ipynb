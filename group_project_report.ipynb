{
 "cells": [
  {
   "cell_type": "markdown",
   "id": "acb59ae7-02fe-4735-8512-7fcca91f30f3",
   "metadata": {},
   "source": [
    "# Predicting Flight Fares: Analyzing Airfare Based on the Duration of a Flight, Time Till Departure and Class"
   ]
  },
  {
   "cell_type": "markdown",
   "id": "9d75f0b1-baa8-4ee0-9ffd-cbca99d51845",
   "metadata": {},
   "source": [
    "## Introduction"
   ]
  },
  {
   "cell_type": "markdown",
   "id": "f802eca0-fbe8-4467-b4fd-38aaebcdf93b",
   "metadata": {},
   "source": [
    "Airlines operate within a highly competitive and evolving environment where pricing strategies play a crucial role in attracting customers and maximizing profitability. The price of a flight ticket is very important to a consumer, it may determine which company they fly with or whether they fly at all. Consumers have different wants and needs when it comes to which flight they take, and airlines price their fares accordingly. Flight fares are influenced by many factors including demand, competition, fuel prices, and operating costs. Airlines invest in and employ revenue management systems that constantly adjust ticket prices based on the current demand and other factors such as: duration till departure, the departure and arrival times themselves, source and destination locations, number of stops in a trip, and the class of the ticket. In our project we will answer the following: Can we accurately and consistently predict the price of a flight ticket based on it's duration till departure, duration of the flight, and class of the ticket (Economy or Business)? To answer this question we will be using a dataset that contains various flights and their details from the website Easemytrip for flights between India's top 6 metro cities. We will be using the cleaned data in which there are 300261 datapoints and 11 categories."
   ]
  },
  {
   "cell_type": "markdown",
   "id": "f2f01fc3-0126-4003-aec9-b60f3400b245",
   "metadata": {},
   "source": [
    "## Methods & Results:"
   ]
  },
  {
   "cell_type": "markdown",
   "id": "0ec50dfd-5e38-4b07-8c17-49310484cddf",
   "metadata": {},
   "source": [
    "#### Our first step is to load the necessary R packages and libraries for this project. So we begin by loading the following:"
   ]
  },
  {
   "cell_type": "code",
   "execution_count": null,
   "id": "bb21325e-da62-49aa-9043-fd930cfc3cf5",
   "metadata": {},
   "outputs": [],
   "source": [
    "library(repr)\n",
    "library(tidyverse)\n",
    "library(tidymodels)\n",
    "library(dplyr)\n",
    "library(tidyr)\n",
    "library(ggplot2)\n",
    "library(RColorBrewer)"
   ]
  },
  {
   "cell_type": "markdown",
   "id": "7ba3b470-83d2-4196-b485-cb45d53cb8b3",
   "metadata": {},
   "source": [
    "#### Next we read in the dataset for our project through a link and also provide a sample of what the data looks like:"
   ]
  },
  {
   "cell_type": "markdown",
   "id": "8dc51e99-9362-4388-8855-5a5382f3fca4",
   "metadata": {},
   "source": [
    "Here we use the read_csv() function to read in the data. We are using the head() function to show a glimpse of the first 5 rows of the dataset to give a preview of what data we are working with. Finally, we use the cat function to concatenate and print the total number of rows in the data set which we obtain throw nrow()."
   ]
  },
  {
   "cell_type": "code",
   "execution_count": null,
   "id": "592aa675-0dbe-4077-9905-9d2f71187d2e",
   "metadata": {},
   "outputs": [],
   "source": [
    "flight_data <- read_csv(\"https://raw.githubusercontent.com/JaskarnNijjar/DSCI-100-Group-Project/main/Clean_Dataset.csv\")\n",
    "\n",
    "head(flight_data)\n",
    "cat(\"Total rows in data set:\", nrow(flight_data), \"\\n\")"
   ]
  },
  {
   "cell_type": "markdown",
   "id": "381ffbc1-05e6-41bc-adf2-81b99c8caa72",
   "metadata": {},
   "source": [
    "#### Now we will split the data into training and testing data sets:"
   ]
  },
  {
   "cell_type": "code",
   "execution_count": null,
   "id": "50228a80-2432-493b-a8e5-276a23e058f7",
   "metadata": {},
   "outputs": [],
   "source": [
    "set.seed(100)  # Setting seed for reproducibility\n",
    "\n",
    "# Taking a sample of 1500 data entries from the data set to allow for our \n",
    "# analysis since otherwise there are too many for the server to handle.\n",
    "flight_data_split <- sample_n(flight_data, size = 1500)\n",
    "\n",
    "# Splitting the data into training and testing sets to develop and test\n",
    "# our model.\n",
    "data_split <- initial_split(flight_data_split, prop = 0.75)\n",
    "sampled_training_data <- training(data_split)\n",
    "sampled_testing_data <- testing(data_split)\n",
    "\n",
    "# Displaying the number of rows featured in each set\n",
    "cat(\"Training set rows:\", nrow(sampled_training_data), \"\\n\")\n",
    "cat(\"Testing set rows:\", nrow(sampled_testing_data), \"\\n\")"
   ]
  },
  {
   "cell_type": "markdown",
   "id": "5b848d8f-d956-4a9a-93fd-e8eb9d091047",
   "metadata": {},
   "source": [
    "## Quantitative Statistical Summaries"
   ]
  },
  {
   "cell_type": "markdown",
   "id": "61f08e28-2ad9-482f-a6a0-7ed93354f98f",
   "metadata": {},
   "source": [
    "#### Summarizing data regarding differences in classes (Business and Economy):"
   ]
  },
  {
   "cell_type": "markdown",
   "id": "90f33d00-2a98-437e-af5d-d617327db5fd",
   "metadata": {},
   "source": [
    "Here we summarize different statistics based on the class of a flight. This reveals that there are less business class compared to economy class tickets. Furthermore, the pricing for business tickets is much higher than economy. This is also our first glimpse of the variability in business pricing, which can be seen from the standard deviations in price. We can attribute the fewer count of business tickets to it's pricing, since the average consumer may not be able to afford or justify spending the premium to fly business, hence setting a lower demand for business tickets. Here we have seperated the data by class using the group_by() function, and we have calculated the minimums, maximums, standard deviations, means using their respective functions."
   ]
  },
  {
   "cell_type": "code",
   "execution_count": null,
   "id": "6b5e3f7b-fe0c-44e2-a124-cc55de1097fc",
   "metadata": {},
   "outputs": [],
   "source": [
    "# Summarized data includes differences in: Count, Average Price, Standard Deviation of Price, Minimum Price,\n",
    "# Maximum Price, Average Duration, Standard Deviation of Duration, Minimum Duration, and Maximum Duration.\n",
    "class_summary <- sampled_training_data |>\n",
    "    group_by(class) |>\n",
    "    summarize(count = n(),\n",
    "              average_price = mean(price, na.rm = TRUE),\n",
    "              sd_in_price = sd(price, na.rm = TRUE),\n",
    "              min_price = min(price, na.rm = TRUE),\n",
    "              max_price = max(price, na.rm = TRUE),\n",
    "              average_duration = mean(duration, na.rm = TRUE),\n",
    "              sd_in_duration = sd(duration, na.rm = TRUE),\n",
    "              min_duration = min(duration, na.rm = TRUE),\n",
    "              max_Duration = max(duration, na.rm = TRUE),\n",
    "             .groups = 'drop')\n",
    "\n",
    "class_summary"
   ]
  },
  {
   "cell_type": "markdown",
   "id": "ed02ac4f-5cac-4ea2-bac6-27b2654cd2b2",
   "metadata": {},
   "source": [
    "#### Summarizing data based on different airlines:"
   ]
  },
  {
   "cell_type": "markdown",
   "id": "ef4ec274-5b27-43a5-92b1-3587bee3dbda",
   "metadata": {},
   "source": [
    "Here we summarize different statistics for the various airlines featured in this dataset. Only two airlines in this dataset offer business class tickets, these are Air India and Vistara. The two biggest airlines are the only ones which offer business class. These 2 airlines have the highest for minimum price, maximum price, and standard deviation in price. From the average durations we can determine that this higher pricing is likely due to these airlines offering longer flights, which could translate to more international flights compared to the smaller airlines. Like the summarization above, we have used group_by(), but we are also passing airline this time as well to seperate them. We are also using the same functions to compute the contents of the table."
   ]
  },
  {
   "cell_type": "code",
   "execution_count": null,
   "id": "69239219-bd4f-427e-8c3f-b79387a206ff",
   "metadata": {},
   "outputs": [],
   "source": [
    "# Summarized data includes differences in: Flight Counts, Minimum Prices, Maximum Prices, Average Prices, Standard Deviation of Prices, and Average Durations.\n",
    "airline_summary <- sampled_training_data |>\n",
    "    group_by(airline, class) |>\n",
    "    summarize(flights_count = n(),\n",
    "              min_price = min(price, na.rm = TRUE),\n",
    "              max_price = max(price, na.rm = TRUE),\n",
    "              average_price = mean(price, na.rm = TRUE),\n",
    "              sd_in_price = sd(price, na.rm = TRUE),\n",
    "              average_duration = mean(duration, na.rm = TRUE),\n",
    "              average_days_till_departure = mean(days_left, na.rm = TRUE),\n",
    "              .groups = 'drop')\n",
    "\n",
    "airline_summary"
   ]
  },
  {
   "cell_type": "markdown",
   "id": "da0141a5-4afd-4aad-b4b5-282740e9cf0e",
   "metadata": {},
   "source": [
    "#### Summarizing averages and standard deviations of quantative predictors in the data set:"
   ]
  },
  {
   "cell_type": "markdown",
   "id": "6fe1a14b-01b4-4663-ae97-c9df5f095ca3",
   "metadata": {},
   "source": [
    "Here we summarize the statistics for all the quantative predictors we will use in our analysis. We are not considering the differences in airline in our prediction model, rather we are working to build a general model which will provide a price prediction based solely on the quantative predictors. Here we do not need to use the group_by() function rather we just use the respective functions to their computations like the tables above."
   ]
  },
  {
   "cell_type": "code",
   "execution_count": null,
   "id": "b4d27cc6-7eb8-4c21-945f-fe9c5e1542b9",
   "metadata": {},
   "outputs": [],
   "source": [
    "# Summarized data includes averages and standard deviations of: Duration, Days till Departure, and Price.\n",
    "quantitative_summary <- sampled_training_data |>\n",
    "    summarize(mean_duration = mean(duration, na.rm = TRUE),\n",
    "              sd_duration = sd(duration, na.rm = TRUE),\n",
    "              mean_days_left = mean(days_left, na.rm = TRUE),\n",
    "              sd_days_left = sd(days_left, na.rm = TRUE),\n",
    "              mean_price = mean(price, na.rm = TRUE),\n",
    "              sd_price = sd(price, na.rm = TRUE))\n",
    "\n",
    "quantitative_summary"
   ]
  },
  {
   "cell_type": "markdown",
   "id": "92c7eba8-cd41-47e0-94bd-8908075aa7ca",
   "metadata": {},
   "source": [
    "#### Summarizing any potential missing data in the data set:"
   ]
  },
  {
   "cell_type": "markdown",
   "id": "4faad095-dae8-4456-931b-5b6d1516d8b8",
   "metadata": {},
   "source": [
    "Here we are just ensuring that there are no missing values. We do this using the summarize function, passing along the arguements across() and everything() so that all columns are being checked, and the arguement ~sum(is.na(.)) performs the actual check for the missing values."
   ]
  },
  {
   "cell_type": "code",
   "execution_count": null,
   "id": "0e757291-b583-451a-95ab-e0ee0de29ff2",
   "metadata": {},
   "outputs": [],
   "source": [
    "# Checks to see how many values are missing in each column in the data set\n",
    "missing_data <- sampled_training_data |>\n",
    "    summarize(across(everything(), ~sum(is.na(.))))\n",
    "\n",
    "missing_data"
   ]
  },
  {
   "cell_type": "markdown",
   "id": "0b3de1ce-6602-4485-b8fb-4bd060b07c57",
   "metadata": {},
   "source": [
    "## Visual Summaries"
   ]
  },
  {
   "cell_type": "markdown",
   "id": "57851ba8-b1a3-4902-ad27-ea2eebf9fbf9",
   "metadata": {},
   "source": [
    "#### Visual summary of the relationship between price and days till departure for each airline:"
   ]
  },
  {
   "cell_type": "markdown",
   "id": "8666b135-c0dc-4cc9-961c-d092e9c1c3b3",
   "metadata": {},
   "source": [
    "Here we are plotting the days till a flight departs against its price, we are looking for potential correlations. We found that for economy tickets there is a clear downwards sloping relation but the same can't be said for business tickets as they are very scattered and inconsistent. Here we create two point graphs using the facet_grid() function and we seperate them by class to see the difference for business and economy classes. Scale_color_brewer is being used for a more visually appealing color pallet and we also use an alpha value of 0.5 to make the points translucent so we can see overlapping points as well."
   ]
  },
  {
   "cell_type": "code",
   "execution_count": null,
   "id": "513757ad-8e12-42d5-9c06-1eb1df9d3400",
   "metadata": {},
   "outputs": [],
   "source": [
    "# Plotting the relationship between price and days till departure for each airline\n",
    "durationtilldeparture_price_plot <- ggplot(sampled_training_data, aes(x = days_left, y = price, color = airline)) +\n",
    "    geom_point(alpha = 0.5) +\n",
    "    facet_grid(. ~ class) +\n",
    "    scale_color_brewer(palette = \"Spectral\") +\n",
    "    labs(x = \"Days Left Until Departure\", y = \"Price (Indian Rupees)\", color = \"Airline\") + \n",
    "    ggtitle(\"Price vs. Days Till Departure For Each Class\") +\n",
    "    theme(text = element_text(size = 15))\n",
    "\n",
    "durationtilldeparture_price_plot"
   ]
  },
  {
   "cell_type": "markdown",
   "id": "0255d2a2-1ba6-47ba-b567-324b20200a5c",
   "metadata": {},
   "source": [
    "#### Visual summary of the relationship between price and duration of flight for each airline:"
   ]
  },
  {
   "cell_type": "markdown",
   "id": "ee91379d-1bbc-41e1-974e-7936b267f4ed",
   "metadata": {},
   "source": [
    "Here we are plotting the duration of a flight departs against its price, we are again looking for potential correlations. In both graphs we see a pattern of a rise in price in relation with distance. Our observations about this believe that the price going up could be due to a further distance that the flight travels but also the duration of a flight can be longer due to layovers and stops which tends to decrease the price. Here we are using nearly identical functions as the previous graph to produce this graph with the exception of passing duration to to the x-axis and changing the titles."
   ]
  },
  {
   "cell_type": "code",
   "execution_count": null,
   "id": "62da0a9b-fe70-4842-ba16-5fd6f9c14835",
   "metadata": {},
   "outputs": [],
   "source": [
    "# Plotting the relationship between price and duration of flight for each airline\n",
    "duration_price_plot <- ggplot(sampled_training_data, aes(x = duration, y = price, color = airline)) +\n",
    "    geom_point(alpha = 0.5) +\n",
    "    facet_grid(. ~ class) +\n",
    "    scale_color_brewer(palette = \"Spectral\") +\n",
    "    labs(x = \"Duration of Flight (Hours)\", y = \"Price (Indian Rupees)\", color = \"Airline\") + \n",
    "    ggtitle(\"Price vs. Duration of Flight For Each Class\") +\n",
    "    theme(text = element_text(size = 15))\n",
    "\n",
    "duration_price_plot"
   ]
  },
  {
   "cell_type": "markdown",
   "id": "1f5a270f-9f28-4a7b-af9b-e8b2c3cbd5e6",
   "metadata": {},
   "source": [
    "## Analysis"
   ]
  },
  {
   "cell_type": "markdown",
   "id": "2bff5185-5e4f-4af5-bce6-fbf1b66d928e",
   "metadata": {},
   "source": [
    "#### The first step of our analysis will be to build our model for multivariable linear regression:"
   ]
  },
  {
   "cell_type": "markdown",
   "id": "c96dcc90-dac1-41cd-9b5e-e73837d1244a",
   "metadata": {},
   "source": [
    "Here we are building a fairly standard linear regression model. We set the engine and mode to the standard for such a model. In our recipe function we predict price using the combination of 3 predictors, we also pass the training data since we are building the model. Finally, in our fit function we add our functions and produce the model. Our model shows that for a ticket with no duration and no days left the price would be 53655.0, which we can establish that it assumes that a ticket starts as a business class ticket. If this ticket was to be an economy ticket that value would be subtracted by 45785.9, this subtraction provides the base price of an economy ticket with 0 duration and 0 days left. The model also describes that for each additional hour the flight travels the price would increase by 195.1 and for each additional day left the price would go down by 137.8."
   ]
  },
  {
   "cell_type": "code",
   "execution_count": null,
   "id": "e59322a5-d9c2-4d2c-b22b-bf6ae98be991",
   "metadata": {},
   "outputs": [],
   "source": [
    "# flight model specification\n",
    "flight_spec <- linear_reg() |>\n",
    "  set_engine(\"lm\") |>\n",
    "  set_mode(\"regression\")\n",
    "\n",
    "# flight model recipe\n",
    "flight_recipe <- recipe(price ~ duration + days_left + class, data = sampled_training_data)\n",
    "\n",
    "# flight model fit\n",
    "flight_fit <- workflow() |>\n",
    "  add_recipe(flight_recipe) |>\n",
    "  add_model(flight_spec) |>\n",
    "  fit(data = sampled_training_data)\n",
    "\n",
    "flight_fit"
   ]
  },
  {
   "cell_type": "markdown",
   "id": "c2597b0e-0ab6-4e6e-b4f7-f5293ab02a97",
   "metadata": {},
   "source": [
    "#### The next step is to test the model:"
   ]
  },
  {
   "cell_type": "markdown",
   "id": "3abf333b-0563-43a0-9d9e-ad4050c03065",
   "metadata": {},
   "source": [
    "Here we test our model, we use the predict function to make make predictions on the sampled_testing_data. The bind_cols() function takes the predictions and appends them as new columns to the sampled_testing_data. The metrics() function calculates performance metrics for the model, it takes in the actual prices as the truth argument and estimate takes in the predictions. As we can see from the results the Root Mean Squared Error (RMSE) is 7492.0728071, this means that the average magnitude of the errors between the predicted and actual values is almost 7500. Furthermore, the r-squared (rsq) valuse is 0.8903964 which means that approximately 89% of the variability in flight prices can be explained by the model. The final value is the Mean Absolute Error (mae) which is 4197.7783340 and this value tells us that on average, the model's predictions are about 4197.78 rupees off from the actual flight prices."
   ]
  },
  {
   "cell_type": "code",
   "execution_count": null,
   "id": "acb732fc-14a6-4c7c-9885-7191c701369a",
   "metadata": {},
   "outputs": [],
   "source": [
    "flight_results <- flight_fit |>\n",
    "  predict(sampled_testing_data) |>\n",
    "  bind_cols(sampled_testing_data) |>\n",
    "  metrics(truth = price, estimate = .pred)\n",
    "\n",
    "flight_results"
   ]
  },
  {
   "cell_type": "markdown",
   "id": "ffeabc02-a5c7-4579-b754-cdd48694c9cf",
   "metadata": {},
   "source": [
    "#### Extracting slope values:"
   ]
  },
  {
   "cell_type": "markdown",
   "id": "b26bc6b3-1678-4f6f-a9fe-5b0e5753cb00",
   "metadata": {},
   "source": [
    "Here we produce the slope values to produce our equation for our model. To produce our equation we will be using the estimate values. To obtain these values we used the extract_fit_parsnip() on our model which produces all the information below and we use tidy() to clean it up into a tidy data frame. Through this information we can establish the following mathematical equation to describe the prediction plane: \n",
    "\n",
    "$$\\text{flight\\_fare} = 53654.9899 + 195.1083 \\times (\\text{duration (hours)}) - 137.7886 \\times (\\text{days\\_left}) - 45785.8799 \\times (\\text{class of ticket} \\, (0 \\, \\text{for business}, \\, 1 \\, \\text{for economy}))$$"
   ]
  },
  {
   "cell_type": "code",
   "execution_count": null,
   "id": "a24ed573-3452-45b1-bb53-f892529cf5f2",
   "metadata": {},
   "outputs": [],
   "source": [
    "mcoeffs <- flight_fit |>\n",
    "             extract_fit_parsnip() |>\n",
    "             tidy()\n",
    "\n",
    "mcoeffs"
   ]
  },
  {
   "cell_type": "markdown",
   "id": "96a31b31-ea36-4d9b-a2b5-4d745a9b3c87",
   "metadata": {},
   "source": [
    "## Visual Analysis"
   ]
  },
  {
   "cell_type": "markdown",
   "id": "72006b44-6145-4b3e-846f-441bf28e1994",
   "metadata": {},
   "source": [
    "#### Our first step will be to created a predictions arguement we can pass on to the graphs:"
   ]
  },
  {
   "cell_type": "markdown",
   "id": "48dc40de-c84a-4f8f-b55c-cc9967f58082",
   "metadata": {},
   "source": [
    "Here we use the predict function to make make predictions on the sampled_testing_data. The bind_cols() function takes the predictions and appends them as new columns to the sampled_testing_data."
   ]
  },
  {
   "cell_type": "code",
   "execution_count": null,
   "id": "96cfdd5c-0bac-41b2-b493-0f8cff062676",
   "metadata": {},
   "outputs": [],
   "source": [
    "# Adds a predicted prices column to data frame\n",
    "predicted_prices <- predict(flight_fit, sampled_testing_data) |>\n",
    "    bind_cols(sampled_testing_data)\n",
    "\n",
    "head(predicted_prices)"
   ]
  },
  {
   "cell_type": "markdown",
   "id": "8b6689d3-9311-4bd6-9ac0-f280fa1b75a1",
   "metadata": {},
   "source": [
    "#### Plotting predicted prices against actual prices:"
   ]
  },
  {
   "cell_type": "markdown",
   "id": "223f737a-acf5-4962-8623-49de91773957",
   "metadata": {},
   "source": [
    "In this visualization, we directly plot the predicted prices against the actual prices for flight fares. We have plotted actual prices on the x-axis while plotting the preidcted prices on the y-axis. The idea here is to visually analyze the accuracy of our models predictions. We have used a dashed line with a slope of 1 to indicate perfect predictions. For points that are on this line, the actual price and predicted price are identical hence the model made a perfect prediction. Ideally, we would want as many points as possible to be on or atleast very close to the line. We have plotted this using the ggplot() functions, the scatter plot portion of this was plotted using geom_point() while we created the line using geom_point() with a slope of 1."
   ]
  },
  {
   "cell_type": "code",
   "execution_count": null,
   "id": "5d39a36c-024c-40d0-9307-fe3fa21e3765",
   "metadata": {},
   "outputs": [],
   "source": [
    "# Plotting Actual vs. Predicted Prices\n",
    "actual_vs_prediction_plot <- ggplot(predicted_prices, aes(x = price, y = .pred)) +\n",
    "    geom_point(aes(color = class), alpha = 0.5) +\n",
    "    geom_abline(intercept = 0, slope = 1, linetype = \"dashed\", color = \"black\") +\n",
    "    labs(x = \"Actual Prices (Indian Rupees)\", y = \"Predicted Prices (Indian Rupees)\",\n",
    "         title = \"Actual vs. Predicted Prices\") +\n",
    "    theme_minimal() +\n",
    "    scale_color_brewer(palette = \"Set1\", name = \"Class\")\n",
    "\n",
    "actual_vs_prediction_plot"
   ]
  },
  {
   "cell_type": "markdown",
   "id": "e5c4d909-7c35-4bd5-8eec-520b7a09dd6a",
   "metadata": {},
   "source": [
    "#### We need to add categorize predictions and actual prices under their respective categories to plot them side-by-side:"
   ]
  },
  {
   "cell_type": "markdown",
   "id": "69afa681-ae4e-426b-a070-a235648baaba",
   "metadata": {},
   "source": [
    "Here we use pivot_longer to combine the actual and predicted prices into one column and then use mutate with ifelse to categorize each price as either an actual price or a predicted price."
   ]
  },
  {
   "cell_type": "code",
   "execution_count": null,
   "id": "7d84afb9-8002-4f56-ac0c-527d849fbeab",
   "metadata": {},
   "outputs": [],
   "source": [
    "# Categorizing actual and prediction prices as types\n",
    "predicted_prices_categorized <- predicted_prices |>\n",
    "  pivot_longer(cols = c(price, .pred),\n",
    "               names_to = \"type\",\n",
    "               values_to = \"price\") |>\n",
    "  mutate(type = ifelse(type == \"price\", \"Actual Prices\", \"Predicted Prices\"))\n",
    "\n",
    "head(predicted_prices_categorized)"
   ]
  },
  {
   "cell_type": "markdown",
   "id": "daaff194-3c79-4d81-ba83-758c08275c39",
   "metadata": {},
   "source": [
    "### Analyzing actual and predicted prices against the days remaining days till departure:"
   ]
  },
  {
   "cell_type": "markdown",
   "id": "501ea4b3-a96a-4fcb-9d4a-a0c2b3b2c27c",
   "metadata": {},
   "source": [
    "Here we plot the actual prices and predicted prices against the number of days left till a flight departs. We use the categorizing we did above to plot price against days left and use facet_wrap() to make 2 graphs, one for each type, predicted and actual. We will cover our findings further in the discussion section below."
   ]
  },
  {
   "cell_type": "code",
   "execution_count": null,
   "id": "73611f25-597b-4831-bc3d-aa2348ca1580",
   "metadata": {},
   "outputs": [],
   "source": [
    "# Plotting Actual and Predicted Prices against the days remaining till departure\n",
    "prices_vs_duration_till_depart_plot <- ggplot(predicted_prices_categorized, aes(x = days_left, y = price, color = class)) +\n",
    "    geom_point(alpha = 0.5) +\n",
    "    facet_wrap(~ type) +\n",
    "    labs(x = \"Days Left Until Departure\", y = \"Price (Indian Rupees)\",\n",
    "         title = \"Actual and Predicted Prices vs. Days Till Departure\") +\n",
    "    theme_minimal() +\n",
    "    scale_color_brewer(palette = \"Set1\", name = \"Ticket Class\")\n",
    "\n",
    "prices_vs_duration_till_depart_plot"
   ]
  },
  {
   "cell_type": "markdown",
   "id": "94d97c50-eaf5-4462-87e0-e433adfbcb1e",
   "metadata": {},
   "source": [
    "### Analyzing actual and predicted prices against the duration of a flight:"
   ]
  },
  {
   "cell_type": "markdown",
   "id": "c5cecdce-c676-42ea-a5ee-dde164d2ccbe",
   "metadata": {},
   "source": [
    "Here we plot the actual prices and predicted prices against the duration of a flight. We use the categorizing here aswell to plot price against duration and similarly use facet_wrap() to make 2 graphs, one for each type, predicted and actual. We will also cover our findings further in the discussion section below."
   ]
  },
  {
   "cell_type": "code",
   "execution_count": null,
   "id": "d423a8a9-ba4a-49ef-9d7e-7130b4e1fa17",
   "metadata": {},
   "outputs": [],
   "source": [
    "# Plotting Actual and Predicted Prices against the duration of a flight side-by-side\n",
    "prices_vs_duration_plot <- ggplot(predicted_prices_categorized, aes(x = duration, y = price, color = class)) +\n",
    "    geom_point(alpha = 0.5) +\n",
    "    facet_wrap(~ type) +\n",
    "    labs(x = \"Duration of Flight (Hours)\", y = \"Price (Indian Rupees)\",\n",
    "         title = \"Actual and Predicted Prices vs. The Duration of a Flight\") +\n",
    "    theme_minimal() +\n",
    "    scale_color_brewer(palette = \"Set1\", name = \"Ticket Class\")\n",
    "\n",
    "prices_vs_duration_plot"
   ]
  },
  {
   "cell_type": "markdown",
   "id": "6f285b31-f1d1-4051-bbcb-c91be9921c81",
   "metadata": {},
   "source": [
    "## Analysis Discussion"
   ]
  },
  {
   "cell_type": "markdown",
   "id": "34e85dbc-e34c-4be3-ab9b-b96c025dd498",
   "metadata": {},
   "source": [
    "#### Findings:"
   ]
  },
  {
   "cell_type": "markdown",
   "id": "1efbf17c-281f-45a5-9483-8fc12e5809dd",
   "metadata": {},
   "source": [
    "We have concluded that our analysis has produced quite interesting results. From the beginning, in our summarizations we began to see increasing variability in the pricing for business class tickets. This was revealed by the larger ranges in minimum, maximum and standard deviation of pricing, our summarization plots then revealed a substantial lack of consistency, in patterns and correlations compared to economy class tickets. We found a lot more spread and outliers between points. We attribute this to the idea that the business class ticket market has less competition compared to economy tickets. There are a few reasons for this, an initial finding we came across was that from the 6 airlines included in this data set only 2 of them offered business class tickets. Furthermore, they were the 2 largest of all the airlines, since they had the highest flight counts. Since there are less airlines competing to sell business class tickets this allows them to be negligent towards their pricing strategies. The next cause of the variability in business class tickets can be attributed to economic status of their consumers. Typically, these consumers have more money than since they have the ability to spend extra which in return can translate to them being less concerned about pricing and can allow airlines to be more careless regarding their pricing. Our analysis found that we had a very difficult time predicting pricing for business class tickets, while we were fairly successful with economy tickets."
   ]
  },
  {
   "cell_type": "markdown",
   "id": "ebc810ab-a227-4a2d-9c48-800414868244",
   "metadata": {},
   "source": [
    "#### Expectations vs Findings:"
   ]
  },
  {
   "cell_type": "markdown",
   "id": "4f8909bb-4f8c-4744-9116-1e7c384371ec",
   "metadata": {},
   "source": [
    "We were surprised by the performance of our model. In specific, the model performed worse than we originally expected, we found that the RMSE was almost 7500, which is a larger average magnitude of the error than we would've hoped. We also found that the MAE was nearly 4200, meaning that on average, the model's predictions are about 4200 rupees off from the actual flight fares which is very significant in a model meant to predict pricing. The RSQ measure value at about 0.89 which meant that approximately 89% of the variability in flight prices can be explained by the model, we found this to be a positive since we can attribute the poor performance to incorporated factors. Upon analyzing our results, we concluded that this decline in performance can be attributed to the variability of business class tickets. Evidently, from the 3 analysis plots above we can see a clear pattern in the plotting of economy and business class tickets. Our predictions for economy fares were fairly accurate and we can clearly distinguish from the side-by-side plots that the predictions followed very similar patterns as the actual pricing. Where we believe our model took a hit was with the incorporation of business tickets. Their variabilities and inconsistencies made it difficult for the model to predict pricing, which dropped the performance significantly. It was crucial to plot the results from our model to clearly see where it was going wrong. We found that if we only included economy class tickets our model can be considered strong. Our model can be further improved by incorporating even more predictors which would help the performance for all predictions, another way that it could be improved is by using a larger sample size or the entire data set. The improvement from this would be marginal compared to the improvement from using more predictors."
   ]
  },
  {
   "cell_type": "markdown",
   "id": "a11d87e7-7e14-4ffb-876e-39dcf5654763",
   "metadata": {},
   "source": [
    "#### Impact:"
   ]
  },
  {
   "cell_type": "markdown",
   "id": "4d9f5fba-1372-4254-951a-4565eb25bd99",
   "metadata": {},
   "source": [
    "Despite the overall model not being as accurate as we expected, we believe that our model could be impactful if it was narrowed down to only predict pricing for economy class tickets. Airlines could utilize our model to automatically price their tickets based on just some characteristics of the flight itself. Our model is just a start, we use very few predictors and we are limited in the amount of data we can process. Airlines are often worth billions so they have access to the technology and infrastructure required to further enhance a model like this drastically. Our model doesn't have to be useful to only airlines, consumers can find benefit in it as well. A consumer can use our model to find how much the flight they are looking at should typically be priced, they can then use this information to determine whether they are getting a good deal or whether they are overpaying. Despite this model's performance suffering due to the business class tickets, consumers of those tickets can use our model to see what they should be paying for their flights instead of paying any price that the airline is offering their tickets at. At the end of the day everyone would prefer to keep or make more money, making our model an impactful tool to anyone in the airline ticket market."
   ]
  },
  {
   "cell_type": "markdown",
   "id": "72cf80b9-1342-4dda-bd95-f039953bfefb",
   "metadata": {},
   "source": [
    "#### Future Questions:"
   ]
  },
  {
   "cell_type": "markdown",
   "id": "a2a1fc70-f67c-4ca8-b956-ee96b6ad2ebf",
   "metadata": {},
   "source": [
    "- What extent can a model like this be improved too? How far and well can it truly perform with the right infrastructure and technology?\n",
    "- How can this model be better suited to being able to accurately predict the pricing of business class tickets?\n",
    "- How would our results vary if we introduced more variables?\n",
    "- How do other factors (fuel prices, time of the year, and events) impact flight fares?\n",
    "- How do external events (pandemics, recessions, and disasters) impact flight fares?\t"
   ]
  },
  {
   "cell_type": "markdown",
   "id": "078586fc-97e1-42b7-89c3-8e975367e2f6",
   "metadata": {},
   "source": [
    "## References"
   ]
  },
  {
   "cell_type": "markdown",
   "id": "699c0367-1181-4e97-9042-b00e4dbccca5",
   "metadata": {},
   "source": [
    "- Bathwal, S. (2022, February 25). Flight Price Prediction. Kaggle. https://www.kaggle.com/datasets/shubhambathwal/flight-price-prediction?resource=download \n",
    "\n",
    "- John Chambers et al. (n.d.). An introduction to R ¶. An Introduction to R. https://cran.r-project.org/doc/manuals/r-release/R-intro.html\n",
    "\n",
    "- Multiple linear regression made simple. Stats and R. (n.d.). https://statsandr.com/blog/multiple-linear-regression-made-simple/#multiple-linear-regression\n",
    "\n",
    "- AltexSoft. (2021, June 10). Dynamic pricing strategy for airlines. https://www.altexsoft.com/blog/dynamic-pricing-airlines/ "
   ]
  },
  {
   "cell_type": "markdown",
   "id": "bdb22833-04ae-4070-bfa5-1013f6ed2be8",
   "metadata": {},
   "source": [
    "## Special Notes:"
   ]
  },
  {
   "cell_type": "markdown",
   "id": "00c88e87-70be-49c2-87f4-6af3c6b2bd49",
   "metadata": {},
   "source": [
    "- The dataset we already used was clean and wrangled in a tidy format, hence that code is not present.\n",
    "\n",
    "- Also we are a group of 2 due to unfortunate circumstances for a prior member, we were told that we should continue our project as usual and that our group circumstance would be kept in mind while grading."
   ]
  }
 ],
 "metadata": {
  "kernelspec": {
   "display_name": "R",
   "language": "R",
   "name": "ir"
  },
  "language_info": {
   "codemirror_mode": "r",
   "file_extension": ".r",
   "mimetype": "text/x-r-source",
   "name": "R",
   "pygments_lexer": "r",
   "version": "4.3.1"
  }
 },
 "nbformat": 4,
 "nbformat_minor": 5
}
